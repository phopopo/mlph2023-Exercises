{
 "cells": [
  {
   "cell_type": "markdown",
   "metadata": {},
   "source": [
    "# Sheet 5"
   ]
  },
  {
   "cell_type": "code",
   "execution_count": 1,
   "metadata": {},
   "outputs": [],
   "source": [
    "import numpy as np\n",
    "from matplotlib import pyplot as plt"
   ]
  },
  {
   "cell_type": "markdown",
   "metadata": {},
   "source": [
    "## 2 Trees and Random Forests\n",
    "(a)"
   ]
  },
  {
   "cell_type": "code",
   "execution_count": 4,
   "metadata": {},
   "outputs": [
    {
     "name": "stdout",
     "output_type": "stream",
     "text": [
      "gini impurity -1.1932732216796555\n",
      "misclassification rate -1.1932732216796555\n",
      "entropy -1.1932732216796555\n"
     ]
    },
    {
     "data": {
      "image/png": "[encoded data removed]",
      "text/plain": [
       "<Figure size 432x288 with 1 Axes>"
      ]
     },
     "metadata": {
      "needs_background": "light"
     },
     "output_type": "display_data"
    }
   ],
   "source": [
    "from collections import defaultdict\n",
    "\n",
    "# load the data\n",
    "pts = np.load('data02/data1d.npy')\n",
    "labels = np.load('data02/labels1d.npy')\n",
    "\n",
    "# TODO: Sort the points to easily split them\n",
    "order = np.argsort(pts)\n",
    "pts = pts[order]\n",
    "labels = labels[order]\n",
    "\n",
    "# np.random.shuffle(labels) # uncomment to see criterions make different splits for random labels\n",
    "\n",
    "# TODO: Implement or find implementation for Gini impurity, entropy and misclassifcation rate\n",
    "\n",
    "def entropy(prob):\n",
    "    prob = prob[prob!=0] # mask away zeros\n",
    "    return np.sum(-prob * np.log2(prob))\n",
    "\n",
    "def gini(prob):\n",
    "    return 1 - (prob ** 2).sum()\n",
    "\n",
    "def misclassification(prob):\n",
    "    return 1 - np.max(prob)\n",
    "\n",
    "def probabilities(partition):\n",
    "    # divide counts by size of dataset to get cluster probabilites\n",
    "    return np.unique(partition, return_counts=True)[1] / len(partition)\n",
    "\n",
    "def compute_split_measure(l, l0, l1, method):\n",
    "    p0 = probabilities(l0)\n",
    "    p1 = probabilities(l1)\n",
    "    p = probabilities(l)\n",
    "    return method(p) - (len(l0) * method(p0) + len(l1) * method(p1)) / (len(l))\n",
    "\n",
    "# TODO: Iterate over the possible splits, evaulating and saving the three criteria for each one\n",
    "split_measures = {'gini impurity': [], 'misclassification rate': [], 'entropy': []}\n",
    "\n",
    "for i in range(1, len(pts)):\n",
    "    l0, l1 = labels[:i], labels[i:]\n",
    "    split_measures['gini impurity'].append(compute_split_measure(labels, l0, l1, method=gini))\n",
    "    split_measures['misclassification rate'].append(compute_split_measure(labels, l0, l1, method=misclassification))\n",
    "    split_measures['entropy'].append(compute_split_measure(labels, l0, l1, method=entropy))\n",
    "    \n",
    "# TODO: Compute the split that each criterion favours and visualize them \n",
    "#       (e.g. with a histogram for each class and vertical lines to show the splits)\n",
    "\n",
    "splitpoints = (pts[1:] + pts[:-1]) / 2\n",
    "\n",
    "for (measure, vals), color in zip(split_measures.items(), ['b', 'r', 'g']):\n",
    "    vals = np.array(vals)\n",
    "    plt.plot(splitpoints, vals, label=measure, c=color)\n",
    "    best_split_pos = splitpoints[np.argmax(vals)]\n",
    "    print(measure, best_split_pos)\n",
    "    plt.vlines([best_split_pos], 0, 0.5, color=color, alpha=0.5)\n",
    "\n",
    "bins = np.linspace(-5, 5, 40)\n",
    "plt.hist(pts[labels==0], density=True, alpha=0.2, bins=bins, label='class 0')\n",
    "plt.hist(pts[labels==1], density=True, alpha=0.2, bins=bins, label='class 1')\n",
    "\n",
    "plt.legend(loc='upper right')\n",
    "plt.xlabel('split position')\n",
    "plt.show()"
   ]
  },
  {
   "cell_type": "markdown",
   "metadata": {},
   "source": [
    "(b)"
   ]
  },
  {
   "cell_type": "code",
   "execution_count": 7,
   "metadata": {},
   "outputs": [],
   "source": [
    "# load the dijet data\n",
    "features = np.load('data02/dijet_features_normalized.npy')\n",
    "labels = np.load('data02/dijet_labels.npy')\n",
    "\n",
    "# TODO: define train, val and test splits as specified (make sure to shuffle the data before splitting it!)\n",
    "order = np.arange(len(labels))\n",
    "np.random.seed(0)\n",
    "np.random.shuffle(order)\n",
    "features = features[:, order]\n",
    "labels = labels[order]\n",
    "\n",
    "train_features, val_features, test_features = features[:, :-400], features[:, -400:-200], features[:, -200:]\n",
    "train_labels, val_labels, test_labels = labels[:-400], labels[-400:-200], labels[-200:]"
   ]
  },
  {
   "cell_type": "code",
   "execution_count": 8,
   "metadata": {},
   "outputs": [
    {
     "name": "stdout",
     "output_type": "stream",
     "text": [
      "acc(val_pred, val_labels)=0.59, {'n_estimators': 5, 'criterion': 'gini', 'max_depth': 1}\n",
      "acc(val_pred, val_labels)=0.67, {'n_estimators': 5, 'criterion': 'gini', 'max_depth': 2}\n",
      "acc(val_pred, val_labels)=0.71, {'n_estimators': 5, 'criterion': 'gini', 'max_depth': 5}\n",
      "acc(val_pred, val_labels)=0.68, {'n_estimators': 5, 'criterion': 'gini', 'max_depth': 10}\n",
      "acc(val_pred, val_labels)=0.66, {'n_estimators': 5, 'criterion': 'gini', 'max_depth': None}\n",
      "acc(val_pred, val_labels)=0.59, {'n_estimators': 5, 'criterion': 'entropy', 'max_depth': 1}\n",
      "acc(val_pred, val_labels)=0.67, {'n_estimators': 5, 'criterion': 'entropy', 'max_depth': 2}\n",
      "acc(val_pred, val_labels)=0.74, {'n_estimators': 5, 'criterion': 'entropy', 'max_depth': 5}\n",
      "acc(val_pred, val_labels)=0.72, {'n_estimators': 5, 'criterion': 'entropy', 'max_depth': 10}\n",
      "acc(val_pred, val_labels)=0.69, {'n_estimators': 5, 'criterion': 'entropy', 'max_depth': None}\n",
      "acc(val_pred, val_labels)=0.59, {'n_estimators': 10, 'criterion': 'gini', 'max_depth': 1}\n",
      "acc(val_pred, val_labels)=0.73, {'n_estimators': 10, 'criterion': 'gini', 'max_depth': 2}\n",
      "acc(val_pred, val_labels)=0.74, {'n_estimators': 10, 'criterion': 'gini', 'max_depth': 5}\n",
      "acc(val_pred, val_labels)=0.74, {'n_estimators': 10, 'criterion': 'gini', 'max_depth': 10}\n",
      "acc(val_pred, val_labels)=0.74, {'n_estimators': 10, 'criterion': 'gini', 'max_depth': None}\n",
      "acc(val_pred, val_labels)=0.68, {'n_estimators': 10, 'criterion': 'entropy', 'max_depth': 1}\n",
      "acc(val_pred, val_labels)=0.72, {'n_estimators': 10, 'criterion': 'entropy', 'max_depth': 2}\n",
      "acc(val_pred, val_labels)=0.72, {'n_estimators': 10, 'criterion': 'entropy', 'max_depth': 5}\n",
      "acc(val_pred, val_labels)=0.74, {'n_estimators': 10, 'criterion': 'entropy', 'max_depth': 10}\n",
      "acc(val_pred, val_labels)=0.72, {'n_estimators': 10, 'criterion': 'entropy', 'max_depth': None}\n",
      "acc(val_pred, val_labels)=0.61, {'n_estimators': 20, 'criterion': 'gini', 'max_depth': 1}\n",
      "acc(val_pred, val_labels)=0.72, {'n_estimators': 20, 'criterion': 'gini', 'max_depth': 2}\n",
      "acc(val_pred, val_labels)=0.77, {'n_estimators': 20, 'criterion': 'gini', 'max_depth': 5}\n",
      "acc(val_pred, val_labels)=0.75, {'n_estimators': 20, 'criterion': 'gini', 'max_depth': 10}\n",
      "acc(val_pred, val_labels)=0.77, {'n_estimators': 20, 'criterion': 'gini', 'max_depth': None}\n",
      "acc(val_pred, val_labels)=0.59, {'n_estimators': 20, 'criterion': 'entropy', 'max_depth': 1}\n",
      "acc(val_pred, val_labels)=0.74, {'n_estimators': 20, 'criterion': 'entropy', 'max_depth': 2}\n",
      "acc(val_pred, val_labels)=0.74, {'n_estimators': 20, 'criterion': 'entropy', 'max_depth': 5}\n",
      "acc(val_pred, val_labels)=0.78, {'n_estimators': 20, 'criterion': 'entropy', 'max_depth': 10}\n",
      "acc(val_pred, val_labels)=0.76, {'n_estimators': 20, 'criterion': 'entropy', 'max_depth': None}\n",
      "acc(val_pred, val_labels)=0.59, {'n_estimators': 100, 'criterion': 'gini', 'max_depth': 1}\n",
      "acc(val_pred, val_labels)=0.73, {'n_estimators': 100, 'criterion': 'gini', 'max_depth': 2}\n",
      "acc(val_pred, val_labels)=0.74, {'n_estimators': 100, 'criterion': 'gini', 'max_depth': 5}\n",
      "acc(val_pred, val_labels)=0.79, {'n_estimators': 100, 'criterion': 'gini', 'max_depth': 10}\n",
      "acc(val_pred, val_labels)=0.79, {'n_estimators': 100, 'criterion': 'gini', 'max_depth': None}\n",
      "acc(val_pred, val_labels)=0.60, {'n_estimators': 100, 'criterion': 'entropy', 'max_depth': 1}\n",
      "acc(val_pred, val_labels)=0.72, {'n_estimators': 100, 'criterion': 'entropy', 'max_depth': 2}\n",
      "acc(val_pred, val_labels)=0.76, {'n_estimators': 100, 'criterion': 'entropy', 'max_depth': 5}\n",
      "acc(val_pred, val_labels)=0.76, {'n_estimators': 100, 'criterion': 'entropy', 'max_depth': 10}\n",
      "acc(val_pred, val_labels)=0.76, {'n_estimators': 100, 'criterion': 'entropy', 'max_depth': None}\n"
     ]
    }
   ],
   "source": [
    "from sklearn.ensemble import RandomForestClassifier\n",
    "\n",
    "# TODO: train a random forest classifier for each combination of specified hyperparameters \n",
    "#       and evaluate the performances on the validation set.\n",
    "\n",
    "def acc(pred, labels):\n",
    "    return (pred==labels).mean()\n",
    "\n",
    "hparams = []\n",
    "scores = []\n",
    "predictors = []\n",
    "for n_estimators in [5, 10, 20, 100]:\n",
    "    for criterion in ['gini', 'entropy']:\n",
    "        for max_depth in [1, 2, 5, 10, None]:\n",
    "            kwargs = dict(\n",
    "                n_estimators=n_estimators, \n",
    "                criterion=criterion,\n",
    "                max_depth=max_depth,\n",
    "            )\n",
    "            predictor = RandomForestClassifier(\n",
    "                **kwargs\n",
    "            )\n",
    "            predictor.fit(train_features.T, train_labels)\n",
    "            val_pred = predictor.predict(val_features.T)\n",
    "            hparams.append(kwargs)\n",
    "            predictors.append(predictor)\n",
    "            scores.append(acc(val_pred, val_labels))\n",
    "            print(f\"{acc(val_pred, val_labels)=:.2f}, {kwargs}\")"
   ]
  },
  {
   "cell_type": "code",
   "execution_count": 11,
   "metadata": {},
   "outputs": [
    {
     "name": "stdout",
     "output_type": "stream",
     "text": [
      "{'n_estimators': 100, 'criterion': 'gini', 'max_depth': 10}\n",
      "validation score: 0.79\n"
     ]
    },
    {
     "data": {
      "text/plain": [
       "0.79"
      ]
     },
     "execution_count": 11,
     "metadata": {},
     "output_type": "execute_result"
    }
   ],
   "source": [
    "# TODO: for your preferred configuration, evaluate the performance of the best configuration on the test set\n",
    "i = np.argmax(scores)\n",
    "print(hparams[i])\n",
    "print('validation score:', scores[i])\n",
    "\n",
    "new_predictor = RandomForestClassifier(**hparams[i])\n",
    "# new_predictor.fit(train_features.T, train_labels)\n",
    "\n",
    "acc(predictors[i].predict(test_features.T), test_labels)#, acc(new_predictor.predict(test_features.T), test_labels)"
   ]
  },
  {
   "cell_type": "markdown",
   "metadata": {},
   "source": [
    "# 3) Fits"
   ]
  },
  {
   "cell_type": "code",
   "execution_count": 269,
   "metadata": {},
   "outputs": [],
   "source": [
    "def gas_ideal(Vm, R, T, sigma=0):\n",
    "    p = R*T / Vm\n",
    "    p += np.random.randn(*Vm.shape) * sigma\n",
    "    return p\n",
    "def gas_real(Vm, a, b, R, T, sigma=0):\n",
    "    p = R*T / (Vm - b) - a/Vm**2\n",
    "    p += np.random.randn(*Vm.shape) * sigma\n",
    "    return p"
   ]
  },
  {
   "cell_type": "code",
   "execution_count": 270,
   "metadata": {},
   "outputs": [
    {
     "data": {
      "image/png": "[encoded data removed]",
      "text/plain": [
       "<Figure size 432x288 with 1 Axes>"
      ]
     },
     "metadata": {
      "needs_background": "light"
     },
     "output_type": "display_data"
    }
   ],
   "source": [
    "# Generate data (students don't do this)\n",
    "N = 100\n",
    "T = 293\n",
    "R = 8.3144626\n",
    "a = 0.2\n",
    "b = 5e-4 #36.4e-6\n",
    "\n",
    "Vm_min, Vm_max = 3e-3, 30e-3\n",
    "data_Vm = np.random.rand(N) * (Vm_max-Vm_min) + Vm_min\n",
    "data_p = gas_real(data_Vm, a, b, R, T, sigma=1000)\n",
    "data = np.stack([data_Vm, data_p], axis=0)\n",
    "np.save(\"data02/gas.npy\", data)\n",
    "\n",
    "test_Vm = np.linspace(Vm_min, Vm_max, 1000)\n",
    "plt.plot(data_Vm, data_p,\"b.\")\n",
    "plt.plot(test_Vm, gas_real(test_Vm, a, b, R, T), \"r-\")\n",
    "plt.show()"
   ]
  },
  {
   "cell_type": "code",
   "execution_count": 275,
   "metadata": {},
   "outputs": [
    {
     "name": "stdout",
     "output_type": "stream",
     "text": [
      "       message: Optimization terminated successfully.\n",
      "       success: True\n",
      "        status: 0\n",
      "           fun: 119173189.40090422\n",
      "             x: [ 9.020e+00]\n",
      "           nit: 29\n",
      "          nfev: 58\n",
      " final_simplex: (array([[ 9.020e+00],\n",
      "                       [ 9.020e+00]]), array([ 1.192e+08,  1.192e+08]))\n",
      "Fit results: 119173189.40090422 [9.02015686]\n"
     ]
    },
    {
     "data": {
      "image/png": "[encoded data removed]",
      "text/plain": [
       "<Figure size 432x288 with 1 Axes>"
      ]
     },
     "metadata": {
      "needs_background": "light"
     },
     "output_type": "display_data"
    }
   ],
   "source": [
    "from scipy.optimize import minimize\n",
    "\n",
    "data_Vm, data_p = np.load(\"data02/gas.npy\")\n",
    "T = 293\n",
    "\n",
    "def MSE(R):\n",
    "    p0 = gas_ideal(data_Vm,R,T)\n",
    "    MSE = np.mean( (p0-data_p)**2)\n",
    "    return MSE\n",
    "\n",
    "res=minimize(MSE, x0=[1.], method=\"Nelder-Mead\")\n",
    "print(res)\n",
    "print(f\"Fit results: {res.fun} {res.x}\")\n",
    "R = res.x[0]\n",
    "\n",
    "fit_p = gas_ideal(test_Vm, R, T)\n",
    "\n",
    "plt.plot(data_Vm,data_p,\"b.\")\n",
    "plt.plot(test_Vm,fit_p,\"r-\")\n",
    "plt.show()"
   ]
  },
  {
   "cell_type": "code",
   "execution_count": 274,
   "metadata": {},
   "outputs": [
    {
     "name": "stdout",
     "output_type": "stream",
     "text": [
      "Fit results: 27326382.853022676 [4.23174752e+00 1.19571395e-03]\n"
     ]
    },
    {
     "data": {
      "image/png": "[encoded data removed]",
      "text/plain": [
       "<Figure size 432x288 with 1 Axes>"
      ]
     },
     "metadata": {
      "needs_background": "light"
     },
     "output_type": "display_data"
    }
   ],
   "source": [
    "def MSE(args):\n",
    "    a, b = args\n",
    "    p0 = gas_real(data_Vm,a,b,R,T)\n",
    "    MSE = np.mean( (p0-data_p)**2)\n",
    "    return MSE\n",
    "\n",
    "res=minimize(MSE, x0=[0.,0.], method=\"Nelder-Mead\")\n",
    "print(f\"Fit results: {res.fun} {res.x}\")\n",
    "\n",
    "fit_p = gas_real(test_Vm, *res.x, R, T)\n",
    "\n",
    "plt.plot(data_Vm,data_p,\"b.\")\n",
    "plt.plot(test_Vm,fit_p,\"r-\")\n",
    "plt.show()"
   ]
  },
  {
   "cell_type": "code",
   "execution_count": null,
   "metadata": {},
   "outputs": [],
   "source": []
  }
 ],
 "metadata": {
  "kernelspec": {
   "display_name": "Python 3",
   "language": "python",
   "name": "python3"
  },
  "language_info": {
   "codemirror_mode": {
    "name": "ipython",
    "version": 3
   },
   "file_extension": ".py",
   "mimetype": "text/x-python",
   "name": "python",
   "nbconvert_exporter": "python",
   "pygments_lexer": "ipython3",
   "version": "3.8.10"
  }
 },
 "nbformat": 4,
 "nbformat_minor": 2
}
