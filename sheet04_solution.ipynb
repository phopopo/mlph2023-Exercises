{
 "cells": [
  {
   "cell_type": "markdown",
   "metadata": {},
   "source": [
    "# Sheet 4"
   ]
  },
  {
   "cell_type": "code",
   "execution_count": 1,
   "metadata": {},
   "outputs": [],
   "source": [
    "import numpy as np\n",
    "from matplotlib import pyplot as plt\n",
    "import torch\n",
    "import torch.nn as nn"
   ]
  },
  {
   "cell_type": "markdown",
   "metadata": {},
   "source": [
    "## 1 Learning with pytorch\n",
    "\n",
    "(a)"
   ]
  },
  {
   "cell_type": "code",
   "execution_count": 2,
   "metadata": {},
   "outputs": [
    {
     "name": "stdout",
     "output_type": "stream",
     "text": [
      "1.4000\t 3.1056\n",
      "0.5000\t -13.0442\n",
      "2.8000\t 1.5528\n",
      "0.3350\t 1.1513\n",
      "1.6487\t -2.6375\n",
      "1.1513\t 2.6375\n",
      "1.4863\t 1.1513\n",
      "1.7111\t 1.0000\n"
     ]
    }
   ],
   "source": [
    "# manual check of intermediate gradients with torch.autograd.grad\n",
    "x1 = torch.tensor(1.4, requires_grad=True)\n",
    "x2 = torch.tensor(0.5, requires_grad=True)\n",
    "v1 = x1/x2\n",
    "v2 = torch.sin(v1)\n",
    "v3 = torch.exp(x2)\n",
    "v4 = v1-v3\n",
    "v5 = v2+v4\n",
    "L = v4*v5\n",
    "for val in [x1,x2,v1,v2,v3,v4,v5,L]:\n",
    "    grad = torch.autograd.grad(L, val, create_graph=True)[0]\n",
    "    print(f\"{val.item():.4f}\\t {grad.item():.4f}\")"
   ]
  },
  {
   "cell_type": "code",
   "execution_count": 3,
   "metadata": {},
   "outputs": [
    {
     "name": "stdout",
     "output_type": "stream",
     "text": [
      "1.5000\t 3.0118\n",
      "0.5000\t -13.7240\n"
     ]
    }
   ],
   "source": [
    "# forward and backward pass\n",
    "# (does not give intermediate gradients -> Students should do it the other way)\n",
    "x1 = torch.tensor(1.5, requires_grad=True)\n",
    "x2 = torch.tensor(0.5, requires_grad=True)\n",
    "def get_L(x1, x2):\n",
    "    return (torch.sin(x1/x2) + x1/x2 - torch.exp(x2)) * (x1/x2 - torch.exp(x2))\n",
    "L = get_L(x1, x2)\n",
    "L.backward() #can only access leaf gradients\n",
    "for val in [x1,x2]:\n",
    "    print(f\"{val.item():.4f}\\t {val.grad.item():.4f}\")"
   ]
  },
  {
   "cell_type": "markdown",
   "metadata": {},
   "source": [
    "(b)"
   ]
  },
  {
   "cell_type": "code",
   "execution_count": 4,
   "metadata": {},
   "outputs": [],
   "source": [
    "# Adam steps\n",
    "def get_L(x1, x2):\n",
    "    return (torch.sin(x1/x2) + x1/x2 - torch.exp(x2)) * (x1/x2 - torch.exp(x2))\n",
    "    \n",
    "x1 = torch.tensor(1.5, requires_grad=True)\n",
    "x2 = torch.tensor(0.5, requires_grad=True)\n",
    "optimizer = torch.optim.Adam([x1], lr=0.1)\n",
    "x1s = []\n",
    "n_epochs = 200\n",
    "for epoch in range(n_epochs):\n",
    "    x1s.append(x1.item())\n",
    "    L = get_L(x1, x2)\n",
    "    L.backward()\n",
    "    optimizer.step()\n",
    "    optimizer.zero_grad()"
   ]
  },
  {
   "cell_type": "code",
   "execution_count": 5,
   "metadata": {},
   "outputs": [
    {
     "data": {
      "image/png": "[encoded data removed]",
      "text/plain": [
       "<Figure size 432x288 with 1 Axes>"
      ]
     },
     "metadata": {
      "needs_background": "light"
     },
     "output_type": "display_data"
    }
   ],
   "source": [
    "its = range(n_epochs)\n",
    "plt.plot(its, x1s, \"b,\")\n",
    "plt.show()"
   ]
  },
  {
   "cell_type": "markdown",
   "metadata": {},
   "source": [
    "(c)"
   ]
  },
  {
   "cell_type": "code",
   "execution_count": 6,
   "metadata": {},
   "outputs": [],
   "source": [
    "n = 1000\n",
    "xmin, xmax = 0,2\n",
    "x1 = torch.linspace(xmin, xmax,n, requires_grad=True)\n",
    "L = get_L(x1,x2)\n",
    "gradL = torch.zeros_like(L)\n",
    "for i in range(n):\n",
    "    L[i].backward(retain_graph=True)\n",
    "    gradL[i] = x1.grad[i]"
   ]
  },
  {
   "cell_type": "code",
   "execution_count": 7,
   "metadata": {},
   "outputs": [
    {
     "data": {
      "image/png": "[encoded data removed]",
      "text/plain": [
       "<Figure size 432x288 with 1 Axes>"
      ]
     },
     "metadata": {
      "needs_background": "light"
     },
     "output_type": "display_data"
    }
   ],
   "source": [
    "plt.plot(x1.detach().numpy(), L.detach().numpy(), \"b-\", label=r\"$L$\")\n",
    "plt.plot(x1.detach().numpy(), gradL.detach().numpy(), \"g-\", label=r\"$dL/dx_1$\")\n",
    "plt.plot(x1.detach().numpy(), np.zeros(n), \"g--\")\n",
    "ymin, ymax = plt.ylim()\n",
    "plt.vlines(.6241, ymin, ymax, color=\"r\", linestyle=\"--\", label=r\"$\\hat x_1$\")\n",
    "plt.ylim(ymin, ymax)\n",
    "plt.xlim(xmin, xmax)\n",
    "plt.xlabel(r\"$x_1$\")\n",
    "plt.legend()\n",
    "plt.show()"
   ]
  },
  {
   "cell_type": "markdown",
   "metadata": {},
   "source": [
    "# 2) Amplitude Regression"
   ]
  },
  {
   "cell_type": "code",
   "execution_count": 8,
   "metadata": {},
   "outputs": [
    {
     "name": "stderr",
     "output_type": "stream",
     "text": [
      "100%|██████████| 11/11 [00:01<00:00,  9.15it/s]"
     ]
    },
    {
     "name": "stdout",
     "output_type": "stream",
     "text": [
      " \u001b[0m\u001b[34;42mtutorial-2-data\u001b[0m/  \u001b[01;32m'tutorial-2-data (1).zip'\u001b[0m*   \u001b[01;32mtutorial-2-data.zip\u001b[0m*\r\n"
     ]
    },
    {
     "name": "stderr",
     "output_type": "stream",
     "text": [
      "\n"
     ]
    }
   ],
   "source": [
    "# download data to folder data04\n",
    "# this might take some time (50MB)\n",
    "# you can also do this manually (download + unpack zip)\n",
    "import os, sys\n",
    "import wget\n",
    "from zipfile import ZipFile\n",
    "from tqdm import tqdm\n",
    "\n",
    "DESTINATION = \"data04\"\n",
    "url = \"https://www.thphys.uni-heidelberg.de/~plehn/pics/\"\n",
    "filename = \"tutorial-2-data.zip\"\n",
    "url = url + filename\n",
    "\n",
    "os.makedirs(DESTINATION, exist_ok=True)\n",
    "os.chdir(DESTINATION)\n",
    "wget.download(url, filename)\n",
    "with ZipFile(filename, \"r\") as zip_ref:\n",
    "    for file in tqdm(iterable=zip_ref.namelist(), total=len(zip_ref.namelist())):\n",
    "        zip_ref.extract(member=file)\n",
    "os.chdir(\"..\")\n",
    "%ls data04"
   ]
  },
  {
   "cell_type": "code",
   "execution_count": 2,
   "metadata": {},
   "outputs": [
    {
     "name": "stdout",
     "output_type": "stream",
     "text": [
      "train data shape: (30000, 5, 4)\n",
      "train amp  shape: (30000,)\n",
      "test  data shape: (30000, 5, 4)\n",
      "test  amp  shape: (30000,)\n",
      "val   data shape: (30000, 5, 4)\n",
      "val   amp  shape: (30000,)\n"
     ]
    }
   ],
   "source": [
    "# load data\n",
    "trn_dat = np.load(\"data04/tutorial-2-data/trn_dat.npy\")\n",
    "trn_amp = np.load(\"data04/tutorial-2-data/trn_amp.npy\")\n",
    "\n",
    "val_dat = np.load(\"data04/tutorial-2-data/val_dat.npy\")\n",
    "val_amp = np.load(\"data04/tutorial-2-data/val_amp.npy\")\n",
    "\n",
    "tst_dat = np.load(\"data04/tutorial-2-data/tst_dat.npy\")\n",
    "tst_amp = np.load(\"data04/tutorial-2-data/tst_amp.npy\")\n",
    "\n",
    "print(f\"train data shape: {trn_dat.shape}\")\n",
    "print(f\"train amp  shape: {trn_amp.shape}\")\n",
    "print(f\"test  data shape: {tst_dat.shape}\")\n",
    "print(f\"test  amp  shape: {tst_amp.shape}\")\n",
    "print(f\"val   data shape: {val_dat.shape}\")\n",
    "print(f\"val   amp  shape: {val_amp.shape}\")"
   ]
  },
  {
   "cell_type": "markdown",
   "metadata": {},
   "source": [
    "(a)"
   ]
  },
  {
   "cell_type": "code",
   "execution_count": 6,
   "metadata": {},
   "outputs": [],
   "source": [
    "def get_init_pi(ev, i):\n",
    "    \"\"\" sums z component of incoming particle's momenta\"\"\"\n",
    "    return ev[:, 0, i] + ev[:, 1, i]\n",
    "\n",
    "def get_pt(fv):\n",
    "    \"\"\" returns p_T of given four vector \"\"\"\n",
    "    ptsq = np.round(fv[:, 1]**2 + fv[:, 2]**2, 5)\n",
    "    return np.sqrt(ptsq)\n",
    "\n",
    "def get_met(fv):\n",
    "    \"\"\" returns MET of the event\"\"\"\n",
    "    return np.sqrt(np.sum(fv[:, :, 1], axis=1)**2\n",
    "                   +np.sum(fv[:, :, 2], axis=1)**2)"
   ]
  },
  {
   "cell_type": "code",
   "execution_count": 11,
   "metadata": {},
   "outputs": [
    {
     "data": {
      "image/png": "[encoded data removed]",
      "text/plain": [
       "<Figure size 432x288 with 1 Axes>"
      ]
     },
     "metadata": {
      "needs_background": "light"
     },
     "output_type": "display_data"
    }
   ],
   "source": [
    "plt.yscale(\"log\")\n",
    "plt.hist(np.log(trn_amp), bins=50)\n",
    "plt.xlabel(r\"$\\log A$\")\n",
    "plt.show()"
   ]
  },
  {
   "cell_type": "code",
   "execution_count": 12,
   "metadata": {},
   "outputs": [
    {
     "data": {
      "image/png": "[encoded data removed]",
      "text/plain": [
       "<Figure size 432x288 with 1 Axes>"
      ]
     },
     "metadata": {
      "needs_background": "light"
     },
     "output_type": "display_data"
    }
   ],
   "source": [
    "plt.hist(get_init_pi(trn_dat, 1), label=r\"$p_x$\", alpha=.5, bins=50)\n",
    "plt.hist(get_init_pi(trn_dat, 2), label=r\"$p_y$\", alpha=.5, bins=50)\n",
    "plt.hist(get_init_pi(trn_dat, 3), label=r\"$p_z$\", alpha=.5, bins=50)\n",
    "plt.xlabel(r\"initial $p_i$ [GeV]\")\n",
    "plt.legend()\n",
    "plt.show()"
   ]
  },
  {
   "cell_type": "code",
   "execution_count": 13,
   "metadata": {},
   "outputs": [
    {
     "data": {
      "image/png": "[encoded data removed]",
      "text/plain": [
       "<Figure size 432x288 with 1 Axes>"
      ]
     },
     "metadata": {
      "needs_background": "light"
     },
     "output_type": "display_data"
    }
   ],
   "source": [
    "plt.yscale(\"log\")\n",
    "plt.hist(get_pt(trn_dat[:,2]), alpha=.5, range=(0, 500), label=r\"$\\gamma_1$\", bins=50)\n",
    "plt.hist(get_pt(trn_dat[:,3]), alpha=.5, range=(0, 500), label=r\"$\\gamma_2$\", bins=50)\n",
    "plt.xlabel(r\"$p_T$ [GeV]\")\n",
    "plt.legend()\n",
    "plt.show()"
   ]
  },
  {
   "cell_type": "code",
   "execution_count": 7,
   "metadata": {},
   "outputs": [
    {
     "data": {
      "image/png": "[encoded data removed]",
      "text/plain": [
       "<Figure size 432x288 with 1 Axes>"
      ]
     },
     "metadata": {
      "needs_background": "light"
     },
     "output_type": "display_data"
    }
   ],
   "source": [
    "plt.yscale(\"log\")\n",
    "plt.hist(get_met(trn_dat), bins=100)\n",
    "plt.xlabel(r\"MET [GeV]\")\n",
    "plt.show()"
   ]
  },
  {
   "cell_type": "markdown",
   "metadata": {},
   "source": [
    "- Log preprocessing for $A$ very be useful\n",
    "- MET: Should be zero. The event with $\\mathrm{MET}\\neq 0$ is a bug in the dataset"
   ]
  },
  {
   "cell_type": "markdown",
   "metadata": {},
   "source": [
    "(b)"
   ]
  },
  {
   "cell_type": "code",
   "execution_count": 15,
   "metadata": {},
   "outputs": [],
   "source": [
    "# flatten datasets\n",
    "nev = trn_dat.shape[0]\n",
    "trn_datf = np.reshape(trn_dat, (nev, -1))\n",
    "val_datf = np.reshape(val_dat, (nev, -1))\n",
    "tst_datf = np.reshape(tst_dat, (nev, -1))"
   ]
  },
  {
   "cell_type": "code",
   "execution_count": 16,
   "metadata": {},
   "outputs": [],
   "source": [
    "def preprocess_x(x_in, mean=None, std=None):\n",
    "    x = x_in.copy() # do not overwrite\n",
    "    if mean is None or std is None:\n",
    "        mean = x.mean(keepdims=True)\n",
    "        std = x.std(keepdims=True)\n",
    "    x = (x - mean) / std # standardize\n",
    "    assert np.isfinite(x).all() # check for nans and infs\n",
    "    return torch.Tensor(x).float(), mean, std # create torch tensors\n",
    "    \n",
    "def preprocess_A(A_in, mean=None, std=None):\n",
    "    A = A_in.copy()\n",
    "    A = np.log(A)\n",
    "    if mean is None or std is None:\n",
    "        mean = A.mean(keepdims=True)\n",
    "        std = A.std(keepdims=True)\n",
    "    A = (A - mean) / std\n",
    "    assert np.isfinite(A).all() \n",
    "    return torch.tensor(A).float().unsqueeze(-1), mean, std\n",
    "\n",
    "def undo_preprocess_A(A_in, mean, std):\n",
    "    A = A_in.copy()\n",
    "    A = A * std + mean\n",
    "    A = np.exp(A)\n",
    "    return A"
   ]
  },
  {
   "cell_type": "code",
   "execution_count": 17,
   "metadata": {},
   "outputs": [
    {
     "data": {
      "image/png": "[encoded data removed]",
      "text/plain": [
       "<Figure size 432x288 with 1 Axes>"
      ]
     },
     "metadata": {
      "needs_background": "light"
     },
     "output_type": "display_data"
    }
   ],
   "source": [
    "# check that network inputs are O(1)\n",
    "for i in range(20):\n",
    "    plt.hist(preprocess_x(trn_datf)[0][:,i], range=(-5,5), alpha=.5, bins=50)\n",
    "plt.hist(preprocess_A(trn_amp)[0][:,0], range=(-5,5), alpha=.5, bins=50)\n",
    "plt.show()"
   ]
  },
  {
   "cell_type": "code",
   "execution_count": 18,
   "metadata": {},
   "outputs": [],
   "source": [
    "class amp_dataset(torch.utils.data.Dataset):\n",
    "    \n",
    "    def __init__(self, data, amp):\n",
    "        self.data = data\n",
    "        self.amp = amp\n",
    "\n",
    "    def __len__(self):\n",
    "        return len(self.amp)\n",
    "\n",
    "    def __getitem__(self, idx):\n",
    "        return self.data[idx], self.amp[idx]"
   ]
  },
  {
   "cell_type": "code",
   "execution_count": 19,
   "metadata": {},
   "outputs": [],
   "source": [
    "# create datasets and dataloaders\n",
    "trn_datfp, mean_x, std_x = preprocess_x(trn_datf)\n",
    "val_datfp, _, _ = preprocess_x(val_datf, mean_x, std_x)\n",
    "tst_datfp, _, _ = preprocess_x(tst_datf, mean_x, std_x)\n",
    "\n",
    "trn_ampp, mean_A, std_A = preprocess_A(trn_amp)\n",
    "val_ampp, _, _ = preprocess_A(val_amp, mean_A, std_A)\n",
    "tst_ampp, _, _ = preprocess_A(tst_amp, mean_A, std_A)\n",
    "\n",
    "trn_dataset = amp_dataset(trn_datfp, trn_ampp)\n",
    "val_dataset = amp_dataset(val_datfp, val_ampp)\n",
    "tst_dataset = amp_dataset(tst_datfp, tst_ampp)\n",
    "\n",
    "batch_size = 64\n",
    "trn_dataloader = torch.utils.data.DataLoader(trn_dataset, batch_size=batch_size, shuffle=True)\n",
    "val_dataloader = torch.utils.data.DataLoader(val_dataset, batch_size=batch_size, shuffle=False)\n",
    "tst_dataloader = torch.utils.data.DataLoader(tst_dataset, batch_size=batch_size, shuffle=False)"
   ]
  },
  {
   "cell_type": "markdown",
   "metadata": {},
   "source": [
    "(c)"
   ]
  },
  {
   "cell_type": "code",
   "execution_count": 20,
   "metadata": {},
   "outputs": [
    {
     "name": "stdout",
     "output_type": "stream",
     "text": [
      "Using cpu device\n"
     ]
    }
   ],
   "source": [
    "device = \"cuda\" if torch.cuda.is_available() else \"cpu\"\n",
    "print(f\"Using {device} device\")"
   ]
  },
  {
   "cell_type": "code",
   "execution_count": 21,
   "metadata": {},
   "outputs": [],
   "source": [
    "class amp_net(nn.Module):\n",
    "    \n",
    "    def __init__(self, hdn_dim=32, ipt_dim=20, opt_dim=1, n_layers=2):\n",
    "        super(amp_net, self).__init__()\n",
    "        \n",
    "        assert n_layers>=2\n",
    "        \n",
    "        layers = []\n",
    "        layers.append(nn.Linear(ipt_dim, hdn_dim))\n",
    "        layers.append(nn.ReLU())\n",
    "        for _ in range(n_layers-2):\n",
    "            layers.append(nn.Linear(hdn_dim, hdn_dim))\n",
    "            layers.append(nn.ReLU())\n",
    "        layers.append(nn.Linear(hdn_dim, opt_dim))\n",
    "        \n",
    "        self.linear_relu_stack = nn.Sequential(*layers)\n",
    "\n",
    "    def forward(self, x):\n",
    "        out = self.linear_relu_stack(x)\n",
    "        return out"
   ]
  },
  {
   "cell_type": "code",
   "execution_count": 22,
   "metadata": {},
   "outputs": [
    {
     "name": "stdout",
     "output_type": "stream",
     "text": [
      "amp_net(\n",
      "  (linear_relu_stack): Sequential(\n",
      "    (0): Linear(in_features=20, out_features=32, bias=True)\n",
      "    (1): ReLU()\n",
      "    (2): Linear(in_features=32, out_features=32, bias=True)\n",
      "    (3): ReLU()\n",
      "    (4): Linear(in_features=32, out_features=32, bias=True)\n",
      "    (5): ReLU()\n",
      "    (6): Linear(in_features=32, out_features=1, bias=True)\n",
      "  )\n",
      ")\n",
      "Model has 2817 trainable parameters\n"
     ]
    }
   ],
   "source": [
    "model = amp_net(hdn_dim=32, n_layers=4).to(device)\n",
    "print(model)\n",
    "total_parameters = sum(p.numel() for p in model.parameters() if p.requires_grad)\n",
    "print(f\"Model has {total_parameters:d} trainable parameters\")"
   ]
  },
  {
   "cell_type": "code",
   "execution_count": 23,
   "metadata": {},
   "outputs": [
    {
     "name": "stdout",
     "output_type": "stream",
     "text": [
      "torch.Size([64, 20]) torch.Size([64, 1])\n"
     ]
    }
   ],
   "source": [
    "x, A = next(iter(trn_dataloader))\n",
    "print(x.shape, A.shape)"
   ]
  },
  {
   "cell_type": "code",
   "execution_count": 24,
   "metadata": {},
   "outputs": [
    {
     "name": "stdout",
     "output_type": "stream",
     "text": [
      "0 / 10000\n",
      "1000 / 10000\n",
      "2000 / 10000\n",
      "3000 / 10000\n",
      "4000 / 10000\n",
      "5000 / 10000\n",
      "6000 / 10000\n",
      "7000 / 10000\n",
      "8000 / 10000\n",
      "9000 / 10000\n"
     ]
    }
   ],
   "source": [
    "niterations = 10000\n",
    "loss_fn = nn.MSELoss()\n",
    "learning_rate = 1e-3\n",
    "optimizer = torch.optim.Adam(model.parameters(), lr=learning_rate)\n",
    "losses = []\n",
    "for it in range(niterations):\n",
    "    optimizer.zero_grad()\n",
    "    \n",
    "    pred = model(x)\n",
    "    loss = loss_fn(pred, A)\n",
    "    loss.backward()\n",
    "    optimizer.step()\n",
    "    losses.append(loss.item())\n",
    "    \n",
    "    if it%1000==0:\n",
    "        print(f\"{it} / {niterations}\")"
   ]
  },
  {
   "cell_type": "code",
   "execution_count": 25,
   "metadata": {},
   "outputs": [
    {
     "data": {
      "image/png": "[encoded data removed]",
      "text/plain": [
       "<Figure size 432x288 with 1 Axes>"
      ]
     },
     "metadata": {
      "needs_background": "light"
     },
     "output_type": "display_data"
    }
   ],
   "source": [
    "plt.plot(range(niterations), losses)\n",
    "plt.show()"
   ]
  },
  {
   "cell_type": "code",
   "execution_count": 26,
   "metadata": {},
   "outputs": [
    {
     "data": {
      "image/png": "[encoded data removed]",
      "text/plain": [
       "<Figure size 432x288 with 1 Axes>"
      ]
     },
     "metadata": {
      "needs_background": "light"
     },
     "output_type": "display_data"
    }
   ],
   "source": [
    "pred = model(x)\n",
    "diff = torch.abs((pred.detach() - A) / A).cpu().numpy()\n",
    "\n",
    "plt.hist(diff, bins=50)\n",
    "plt.xlabel(r\"$\\frac{|A_\\mathrm{pred}-A|}{A}$\")\n",
    "plt.show()"
   ]
  },
  {
   "cell_type": "markdown",
   "metadata": {},
   "source": [
    "(d)"
   ]
  },
  {
   "cell_type": "code",
   "execution_count": 27,
   "metadata": {},
   "outputs": [],
   "source": [
    "def batch_loss(model, x, y):\n",
    "    x, y = x.to(device), y.to(device)\n",
    "    pred = model(x)\n",
    "    loss = loss_fn(pred, y)\n",
    "    return loss"
   ]
  },
  {
   "cell_type": "code",
   "execution_count": 28,
   "metadata": {},
   "outputs": [],
   "source": [
    "def train_epoch(model, dataloader, losses, batch_loss_fn):\n",
    "    for x, y in dataloader:\n",
    "        optimizer.zero_grad()\n",
    "        \n",
    "        loss = batch_loss_fn(model, x, y)\n",
    "        loss.backward()\n",
    "        optimizer.step()\n",
    "        losses.append(loss.item())\n",
    "    return losses"
   ]
  },
  {
   "cell_type": "code",
   "execution_count": 29,
   "metadata": {},
   "outputs": [],
   "source": [
    "def val_epoch(model, dataloader, losses, batch_loss_fn):\n",
    "    losses_epoch = []\n",
    "    with torch.no_grad():\n",
    "        for x, y in dataloader:\n",
    "            loss = batch_loss_fn(model, x,y)\n",
    "            losses_epoch.append(loss.item())\n",
    "    losses.append(np.mean(losses_epoch))\n",
    "    return losses"
   ]
  },
  {
   "cell_type": "code",
   "execution_count": 30,
   "metadata": {},
   "outputs": [
    {
     "name": "stdout",
     "output_type": "stream",
     "text": [
      "amp_net(\n",
      "  (linear_relu_stack): Sequential(\n",
      "    (0): Linear(in_features=20, out_features=32, bias=True)\n",
      "    (1): ReLU()\n",
      "    (2): Linear(in_features=32, out_features=32, bias=True)\n",
      "    (3): ReLU()\n",
      "    (4): Linear(in_features=32, out_features=32, bias=True)\n",
      "    (5): ReLU()\n",
      "    (6): Linear(in_features=32, out_features=1, bias=True)\n",
      "  )\n",
      ")\n",
      "Model has 2817 trainable parameters\n",
      "0 / 100\n",
      "10 / 100\n",
      "20 / 100\n",
      "30 / 100\n",
      "40 / 100\n",
      "50 / 100\n",
      "60 / 100\n",
      "70 / 100\n",
      "80 / 100\n",
      "90 / 100\n"
     ]
    }
   ],
   "source": [
    "n_epochs = 100\n",
    "loss_fn = nn.MSELoss()\n",
    "\n",
    "model = amp_net(hdn_dim=32, n_layers=4).to(device)\n",
    "print(model)\n",
    "total_parameters = sum(p.numel() for p in model.parameters() if p.requires_grad)\n",
    "print(f\"Model has {total_parameters:d} trainable parameters\")\n",
    "\n",
    "learning_rate = 1e-3\n",
    "optimizer = torch.optim.Adam(model.parameters(), lr=learning_rate)\n",
    "train_losses = []\n",
    "val_losses = []\n",
    "for epoch in range(n_epochs):\n",
    "    train_losses = train_epoch(model, trn_dataloader, train_losses, batch_loss)\n",
    "    \n",
    "    val_losses = val_epoch(model, val_dataloader, val_losses, batch_loss)\n",
    "    \n",
    "    if epoch%10==0:\n",
    "        print(f\"{epoch} / {n_epochs}\")"
   ]
  },
  {
   "cell_type": "code",
   "execution_count": 31,
   "metadata": {},
   "outputs": [],
   "source": [
    "def evaluate():\n",
    "    # plot loss\n",
    "    plt.yscale(\"log\")\n",
    "    plt.plot(np.arange(len(train_losses)) / len(trn_dataloader), train_losses)\n",
    "    plt.plot(np.arange(len(val_losses)), val_losses)\n",
    "    plt.show()\n",
    "    \n",
    "    # calculate predictions\n",
    "    predsp = np.array([])\n",
    "    with torch.no_grad():\n",
    "        for x, y in tst_dataloader:\n",
    "            pred = model(x)\n",
    "            predsp = np.append(predsp, pred)\n",
    "\n",
    "    # undo preprocessing\n",
    "    preds = undo_preprocess_A(predsp, mean_A, std_A) \n",
    "    \n",
    "    #plt.yscale(\"log\")\n",
    "    plt.hist(np.log(preds), alpha=.5, range=(-20, -8), bins=50)\n",
    "    plt.hist(np.log(tst_amp), alpha=.5, range=(-20, -8), bins=50)\n",
    "    plt.xlabel(r\"$\\log A$\")\n",
    "    plt.show()"
   ]
  },
  {
   "cell_type": "code",
   "execution_count": 32,
   "metadata": {},
   "outputs": [
    {
     "data": {
      "image/png": "[encoded data removed]",
      "text/plain": [
       "<Figure size 432x288 with 1 Axes>"
      ]
     },
     "metadata": {
      "needs_background": "light"
     },
     "output_type": "display_data"
    },
    {
     "data": {
      "image/png": "[encoded data removed]",
      "text/plain": [
       "<Figure size 432x288 with 1 Axes>"
      ]
     },
     "metadata": {
      "needs_background": "light"
     },
     "output_type": "display_data"
    }
   ],
   "source": [
    "evaluate()"
   ]
  },
  {
   "cell_type": "markdown",
   "metadata": {},
   "source": [
    "(e)"
   ]
  },
  {
   "cell_type": "code",
   "execution_count": 33,
   "metadata": {},
   "outputs": [],
   "source": [
    "# create datasets and dataloaders\n",
    "trn_dataset = amp_dataset(trn_datfp[:1000,:], trn_ampp[:1000,:])\n",
    "val_dataset = amp_dataset(val_datfp, val_ampp)\n",
    "tst_dataset = amp_dataset(tst_datfp, tst_ampp)\n",
    "\n",
    "batch_size = 64\n",
    "trn_dataloader = torch.utils.data.DataLoader(trn_dataset, batch_size=batch_size, shuffle=True)\n",
    "val_dataloader = torch.utils.data.DataLoader(val_dataset, batch_size=batch_size, shuffle=False)\n",
    "tst_dataloader = torch.utils.data.DataLoader(tst_dataset, batch_size=batch_size, shuffle=False)"
   ]
  },
  {
   "cell_type": "code",
   "execution_count": 34,
   "metadata": {},
   "outputs": [
    {
     "name": "stdout",
     "output_type": "stream",
     "text": [
      "amp_net(\n",
      "  (linear_relu_stack): Sequential(\n",
      "    (0): Linear(in_features=20, out_features=32, bias=True)\n",
      "    (1): ReLU()\n",
      "    (2): Linear(in_features=32, out_features=32, bias=True)\n",
      "    (3): ReLU()\n",
      "    (4): Linear(in_features=32, out_features=32, bias=True)\n",
      "    (5): ReLU()\n",
      "    (6): Linear(in_features=32, out_features=1, bias=True)\n",
      "  )\n",
      ")\n",
      "Model has 2817 trainable parameters\n",
      "0 / 100\n",
      "10 / 100\n",
      "20 / 100\n",
      "30 / 100\n",
      "40 / 100\n",
      "50 / 100\n",
      "60 / 100\n",
      "70 / 100\n",
      "80 / 100\n",
      "90 / 100\n"
     ]
    }
   ],
   "source": [
    "n_epochs = 100\n",
    "loss_fn = nn.MSELoss()\n",
    "\n",
    "model = amp_net(hdn_dim=32, n_layers=4).to(device)\n",
    "print(model)\n",
    "total_parameters = sum(p.numel() for p in model.parameters() if p.requires_grad)\n",
    "print(f\"Model has {total_parameters:d} trainable parameters\")\n",
    "\n",
    "learning_rate = 1e-3\n",
    "optimizer = torch.optim.Adam(model.parameters(), lr=learning_rate)\n",
    "train_losses = []\n",
    "val_losses = []\n",
    "for epoch in range(n_epochs):\n",
    "    train_losses = train_epoch(model, trn_dataloader, train_losses, batch_loss)\n",
    "    \n",
    "    val_losses = val_epoch(model, val_dataloader, val_losses, batch_loss)\n",
    "    \n",
    "    if epoch%10==0:\n",
    "        print(f\"{epoch} / {n_epochs}\")"
   ]
  },
  {
   "cell_type": "code",
   "execution_count": 35,
   "metadata": {},
   "outputs": [
    {
     "data": {
      "image/png": "[encoded data removed]",
      "text/plain": [
       "<Figure size 432x288 with 1 Axes>"
      ]
     },
     "metadata": {
      "needs_background": "light"
     },
     "output_type": "display_data"
    },
    {
     "data": {
      "image/png": "[encoded data removed]",
      "text/plain": [
       "<Figure size 432x288 with 1 Axes>"
      ]
     },
     "metadata": {
      "needs_background": "light"
     },
     "output_type": "display_data"
    }
   ],
   "source": [
    "evaluate()"
   ]
  },
  {
   "cell_type": "markdown",
   "metadata": {},
   "source": [
    "### Early stopping"
   ]
  },
  {
   "cell_type": "code",
   "execution_count": 36,
   "metadata": {},
   "outputs": [
    {
     "name": "stdout",
     "output_type": "stream",
     "text": [
      "amp_net(\n",
      "  (linear_relu_stack): Sequential(\n",
      "    (0): Linear(in_features=20, out_features=32, bias=True)\n",
      "    (1): ReLU()\n",
      "    (2): Linear(in_features=32, out_features=32, bias=True)\n",
      "    (3): ReLU()\n",
      "    (4): Linear(in_features=32, out_features=32, bias=True)\n",
      "    (5): ReLU()\n",
      "    (6): Linear(in_features=32, out_features=1, bias=True)\n",
      "  )\n",
      ")\n",
      "Model has 2817 trainable parameters\n",
      "0 / 100\n",
      "10 / 100\n",
      "Early stopping in epoch 16 with patience=10\n"
     ]
    }
   ],
   "source": [
    "n_epochs = 100\n",
    "loss_fn = nn.MSELoss()\n",
    "\n",
    "model = amp_net(hdn_dim=32, n_layers=4).to(device)\n",
    "print(model)\n",
    "total_parameters = sum(p.numel() for p in model.parameters() if p.requires_grad)\n",
    "print(f\"Model has {total_parameters:d} trainable parameters\")\n",
    "\n",
    "learning_rate = 1e-3\n",
    "optimizer = torch.optim.Adam(model.parameters(), lr=learning_rate)\n",
    "train_losses = []\n",
    "val_losses = []\n",
    "\n",
    "patience = 10\n",
    "n_patient = 0\n",
    "batches_per_epoch = len(trn_dataloader)\n",
    "for epoch in range(n_epochs):\n",
    "    train_losses = train_epoch(model, trn_dataloader, train_losses, batch_loss)\n",
    "    \n",
    "    val_losses = val_epoch(model, val_dataloader, val_losses, batch_loss)\n",
    "    \n",
    "    if np.mean(train_losses[-batches_per_epoch:]) < val_losses[-1]:\n",
    "        n_patient += 1\n",
    "    if n_patient == patience:\n",
    "        print(f\"Early stopping in epoch {epoch} with patience={patience}\")\n",
    "        break\n",
    "    \n",
    "    if epoch%10==0:\n",
    "        print(f\"{epoch} / {n_epochs}\")"
   ]
  },
  {
   "cell_type": "code",
   "execution_count": 37,
   "metadata": {},
   "outputs": [
    {
     "data": {
      "image/png": "[encoded data removed]",
      "text/plain": [
       "<Figure size 432x288 with 1 Axes>"
      ]
     },
     "metadata": {
      "needs_background": "light"
     },
     "output_type": "display_data"
    },
    {
     "data": {
      "image/png": "[encoded data removed]",
      "text/plain": [
       "<Figure size 432x288 with 1 Axes>"
      ]
     },
     "metadata": {
      "needs_background": "light"
     },
     "output_type": "display_data"
    }
   ],
   "source": [
    "evaluate()"
   ]
  },
  {
   "cell_type": "markdown",
   "metadata": {},
   "source": [
    "### Dropout"
   ]
  },
  {
   "cell_type": "code",
   "execution_count": 40,
   "metadata": {},
   "outputs": [],
   "source": [
    "class amp_net(nn.Module):\n",
    "    \n",
    "    # default hdn_dim is 30, but can be changed upon initialisation\n",
    "    def __init__(self, hdn_dim=32, ipt_dim=20, opt_dim=1, n_layers=2, dropout=0.):\n",
    "        super(amp_net, self).__init__()\n",
    "        \n",
    "        assert n_layers>=2\n",
    "        \n",
    "        layers = []\n",
    "        layers.append(nn.Linear(ipt_dim, hdn_dim))\n",
    "        layers.append(nn.ReLU())\n",
    "        for _ in range(n_layers-2):\n",
    "            layers.append(nn.Linear(hdn_dim, hdn_dim))\n",
    "            if dropout>0.:\n",
    "                layers.append(nn.Dropout(p=dropout))\n",
    "            layers.append(nn.ReLU())\n",
    "        layers.append(nn.Linear(hdn_dim, opt_dim))\n",
    "        \n",
    "        self.linear_relu_stack = nn.Sequential(*layers)\n",
    "\n",
    "    def forward(self, x):\n",
    "        out = self.linear_relu_stack(x)\n",
    "        return out"
   ]
  },
  {
   "cell_type": "code",
   "execution_count": 41,
   "metadata": {},
   "outputs": [
    {
     "name": "stdout",
     "output_type": "stream",
     "text": [
      "amp_net(\n",
      "  (linear_relu_stack): Sequential(\n",
      "    (0): Linear(in_features=20, out_features=64, bias=True)\n",
      "    (1): ReLU()\n",
      "    (2): Linear(in_features=64, out_features=64, bias=True)\n",
      "    (3): Dropout(p=0.5, inplace=False)\n",
      "    (4): ReLU()\n",
      "    (5): Linear(in_features=64, out_features=64, bias=True)\n",
      "    (6): Dropout(p=0.5, inplace=False)\n",
      "    (7): ReLU()\n",
      "    (8): Linear(in_features=64, out_features=1, bias=True)\n",
      "  )\n",
      ")\n",
      "Model has 9729 trainable parameters\n",
      "0 / 100\n",
      "10 / 100\n",
      "20 / 100\n",
      "30 / 100\n",
      "40 / 100\n",
      "50 / 100\n",
      "60 / 100\n",
      "70 / 100\n",
      "80 / 100\n",
      "90 / 100\n"
     ]
    }
   ],
   "source": [
    "n_epochs = 100\n",
    "loss_fn = nn.MSELoss()\n",
    "\n",
    "model = amp_net(hdn_dim=64, n_layers=4, dropout=.5).to(device)\n",
    "print(model)\n",
    "total_parameters = sum(p.numel() for p in model.parameters() if p.requires_grad)\n",
    "print(f\"Model has {total_parameters:d} trainable parameters\")\n",
    "\n",
    "learning_rate = 1e-3\n",
    "optimizer = torch.optim.Adam(model.parameters(), lr=learning_rate)\n",
    "train_losses = []\n",
    "val_losses = []\n",
    "\n",
    "for epoch in range(n_epochs):\n",
    "    train_losses = train_epoch(model, trn_dataloader, train_losses, batch_loss)\n",
    "    \n",
    "    val_losses = val_epoch(model, val_dataloader, val_losses, batch_loss)\n",
    "    \n",
    "    if epoch%10==0:\n",
    "        print(f\"{epoch} / {n_epochs}\")"
   ]
  },
  {
   "cell_type": "code",
   "execution_count": 42,
   "metadata": {},
   "outputs": [
    {
     "data": {
      "image/png": "[encoded data removed]",
      "text/plain": [
       "<Figure size 432x288 with 1 Axes>"
      ]
     },
     "metadata": {
      "needs_background": "light"
     },
     "output_type": "display_data"
    },
    {
     "data": {
      "image/png": "[encoded data removed]",
      "text/plain": [
       "<Figure size 432x288 with 1 Axes>"
      ]
     },
     "metadata": {
      "needs_background": "light"
     },
     "output_type": "display_data"
    }
   ],
   "source": [
    "evaluate()"
   ]
  },
  {
   "cell_type": "markdown",
   "metadata": {},
   "source": [
    "### Weight decay"
   ]
  },
  {
   "cell_type": "code",
   "execution_count": 43,
   "metadata": {},
   "outputs": [
    {
     "name": "stdout",
     "output_type": "stream",
     "text": [
      "amp_net(\n",
      "  (linear_relu_stack): Sequential(\n",
      "    (0): Linear(in_features=20, out_features=32, bias=True)\n",
      "    (1): ReLU()\n",
      "    (2): Linear(in_features=32, out_features=32, bias=True)\n",
      "    (3): ReLU()\n",
      "    (4): Linear(in_features=32, out_features=32, bias=True)\n",
      "    (5): ReLU()\n",
      "    (6): Linear(in_features=32, out_features=1, bias=True)\n",
      "  )\n",
      ")\n",
      "Model has 2817 trainable parameters\n",
      "0 / 100\n",
      "10 / 100\n",
      "20 / 100\n",
      "30 / 100\n",
      "40 / 100\n",
      "50 / 100\n",
      "60 / 100\n",
      "70 / 100\n",
      "80 / 100\n",
      "90 / 100\n"
     ]
    }
   ],
   "source": [
    "n_epochs = 100\n",
    "loss_fn = nn.MSELoss()\n",
    "\n",
    "model = amp_net(hdn_dim=32, n_layers=4).to(device)\n",
    "print(model)\n",
    "total_parameters = sum(p.numel() for p in model.parameters() if p.requires_grad)\n",
    "print(f\"Model has {total_parameters:d} trainable parameters\")\n",
    "\n",
    "learning_rate = 1e-3\n",
    "optimizer = torch.optim.AdamW(model.parameters(), lr=learning_rate,\n",
    "                             weight_decay=.5)\n",
    "train_losses = []\n",
    "val_losses = []\n",
    "for epoch in range(n_epochs):\n",
    "    train_losses = train_epoch(model, trn_dataloader, train_losses, batch_loss)\n",
    "    \n",
    "    val_losses = val_epoch(model, val_dataloader, val_losses, batch_loss)\n",
    "    \n",
    "    if epoch%10==0:\n",
    "        print(f\"{epoch} / {n_epochs}\")"
   ]
  },
  {
   "cell_type": "code",
   "execution_count": 44,
   "metadata": {},
   "outputs": [
    {
     "data": {
      "image/png": "[encoded data removed]",
      "text/plain": [
       "<Figure size 432x288 with 1 Axes>"
      ]
     },
     "metadata": {
      "needs_background": "light"
     },
     "output_type": "display_data"
    },
    {
     "data": {
      "image/png": "[encoded data removed]",
      "text/plain": [
       "<Figure size 432x288 with 1 Axes>"
      ]
     },
     "metadata": {
      "needs_background": "light"
     },
     "output_type": "display_data"
    }
   ],
   "source": [
    "evaluate()"
   ]
  },
  {
   "cell_type": "code",
   "execution_count": null,
   "metadata": {},
   "outputs": [],
   "source": []
  }
 ],
 "metadata": {
  "kernelspec": {
   "display_name": "Python 3",
   "language": "python",
   "name": "python3"
  },
  "language_info": {
   "codemirror_mode": {
    "name": "ipython",
    "version": 3
   },
   "file_extension": ".py",
   "mimetype": "text/x-python",
   "name": "python",
   "nbconvert_exporter": "python",
   "pygments_lexer": "ipython3",
   "version": "3.8.10"
  }
 },
 "nbformat": 4,
 "nbformat_minor": 2
}
